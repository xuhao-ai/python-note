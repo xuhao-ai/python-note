{
 "cells": [
  {
   "cell_type": "markdown",
   "id": "b2ff6a06",
   "metadata": {},
   "source": [
    "# Hello world"
   ]
  },
  {
   "cell_type": "code",
   "execution_count": 16,
   "id": "b15b1eb2",
   "metadata": {},
   "outputs": [
    {
     "name": "stdout",
     "output_type": "stream",
     "text": [
      "hello world\n"
     ]
    }
   ],
   "source": [
    "#!/usr/bin/python3 \n",
    "print('hello world')"
   ]
  },
  {
   "cell_type": "markdown",
   "id": "f79f0137",
   "metadata": {},
   "source": [
    "# Comments"
   ]
  },
  {
   "cell_type": "code",
   "execution_count": 22,
   "id": "e5f30d09",
   "metadata": {},
   "outputs": [],
   "source": [
    "# a = 3\n",
    "a = 3  # 4"
   ]
  },
  {
   "cell_type": "markdown",
   "id": "e05d2fab",
   "metadata": {},
   "source": [
    "# Literal Constants"
   ]
  },
  {
   "cell_type": "code",
   "execution_count": 23,
   "id": "fd347090",
   "metadata": {},
   "outputs": [],
   "source": [
    "number = 123\n",
    "string = 'abc'"
   ]
  },
  {
   "cell_type": "markdown",
   "id": "90854078",
   "metadata": {},
   "source": [
    "## Numbers"
   ]
  },
  {
   "cell_type": "code",
   "execution_count": 24,
   "id": "006ce488",
   "metadata": {},
   "outputs": [],
   "source": [
    "integers = 123\n",
    "floats = 1.23"
   ]
  },
  {
   "cell_type": "markdown",
   "id": "6665b6a0",
   "metadata": {},
   "source": [
    "## Strings"
   ]
  },
  {
   "cell_type": "markdown",
   "id": "c8a287db",
   "metadata": {},
   "source": [
    "### Single Quote"
   ]
  },
  {
   "cell_type": "code",
   "execution_count": 38,
   "id": "4667e975",
   "metadata": {},
   "outputs": [],
   "source": [
    "a = 'hello'"
   ]
  },
  {
   "cell_type": "markdown",
   "id": "9703a399",
   "metadata": {},
   "source": [
    "### Double Quote"
   ]
  },
  {
   "cell_type": "code",
   "execution_count": null,
   "id": "ec9c87ae",
   "metadata": {},
   "outputs": [],
   "source": [
    "b = \"hello\""
   ]
  },
  {
   "cell_type": "markdown",
   "id": "5906f366",
   "metadata": {},
   "source": [
    "### Triple Quotes "
   ]
  },
  {
   "cell_type": "code",
   "execution_count": 39,
   "id": "47b0d570",
   "metadata": {},
   "outputs": [],
   "source": [
    "c = \"\"\"hello\n",
    "world\"\"\""
   ]
  },
  {
   "cell_type": "markdown",
   "id": "e1bce555",
   "metadata": {},
   "source": [
    "## Strings are immutable"
   ]
  },
  {
   "cell_type": "code",
   "execution_count": 40,
   "id": "8ed93083",
   "metadata": {},
   "outputs": [],
   "source": [
    "a = 'hello';a[0] = 'H' # error"
   ]
  },
  {
   "cell_type": "markdown",
   "id": "29c472aa",
   "metadata": {},
   "source": [
    "## The format method"
   ]
  },
  {
   "cell_type": "code",
   "execution_count": 15,
   "id": "8391c394",
   "metadata": {},
   "outputs": [
    {
     "name": "stdout",
     "output_type": "stream",
     "text": [
      "my name is xuhao. I am 26 years old\n",
      "My name is xuhao. I am 26 years old\n",
      "My name is xuhao. I am 26 years old\n",
      "My name is xuhao. I am 26 years old\n",
      "number = 123.000\n",
      "____hhh_____\n",
      "my name is xuhao\n"
     ]
    }
   ],
   "source": [
    "age = 26\n",
    "name = 'xuhao'\n",
    "print('my name is {0}. I am {1} years old'.format(name, age))\n",
    "\n",
    "print('My name is {}. I am {} years old'.format(name, age))\n",
    "\n",
    "print('My name is {name}. I am {age} years old'.format(name=name, age=age))\n",
    "\n",
    "print(f'My name is {name}. I am {age} years old')\n",
    "\n",
    "print('number = {0:.3f}'.format(123))\n",
    "\n",
    "print('{0:_^12}'.format('hhh'))\n",
    "\n",
    "print('my name is xuhao', end = '\\n')"
   ]
  },
  {
   "cell_type": "markdown",
   "id": "a1e5f969",
   "metadata": {},
   "source": [
    "## Escape Sequences"
   ]
  },
  {
   "cell_type": "code",
   "execution_count": 23,
   "id": "b2740e48",
   "metadata": {},
   "outputs": [
    {
     "name": "stdout",
     "output_type": "stream",
     "text": [
      "What's your name\n",
      "What's your name\n",
      "What's your name. My name is xuhao\n"
     ]
    }
   ],
   "source": [
    "print('What\\'s your name')\n",
    "\n",
    "print(\"What's your name\")\n",
    "\n",
    "print('What\\'s your name. \\\n",
    "My name is xuhao')"
   ]
  },
  {
   "cell_type": "markdown",
   "id": "c5ac70d5",
   "metadata": {},
   "source": [
    "## Raw String"
   ]
  },
  {
   "cell_type": "code",
   "execution_count": 24,
   "id": "eddbf10d",
   "metadata": {},
   "outputs": [
    {
     "name": "stdout",
     "output_type": "stream",
     "text": [
      "My name is xuhao \\n\n"
     ]
    }
   ],
   "source": [
    "print(r'My name is xuhao \\n')"
   ]
  },
  {
   "cell_type": "markdown",
   "id": "b4ec3b64",
   "metadata": {},
   "source": [
    "# Variable"
   ]
  },
  {
   "cell_type": "code",
   "execution_count": 25,
   "id": "390317a8",
   "metadata": {},
   "outputs": [],
   "source": [
    "a = 1"
   ]
  },
  {
   "cell_type": "markdown",
   "id": "35bf6670",
   "metadata": {},
   "source": [
    "## Identifier Naming"
   ]
  },
  {
   "cell_type": "code",
   "execution_count": 28,
   "id": "dab4dd62",
   "metadata": {},
   "outputs": [],
   "source": [
    "a_123 = 1; _A123 = 2\n",
    "\n",
    "# a-b = 1; >abc = 2"
   ]
  },
  {
   "cell_type": "markdown",
   "id": "6c53bc1e",
   "metadata": {},
   "source": [
    "## Data Types"
   ]
  },
  {
   "cell_type": "code",
   "execution_count": 30,
   "id": "155551cc",
   "metadata": {},
   "outputs": [],
   "source": [
    "# basic data types: number, string"
   ]
  },
  {
   "cell_type": "markdown",
   "id": "60dbffcc",
   "metadata": {},
   "source": [
    "## Object"
   ]
  },
  {
   "cell_type": "raw",
   "id": "9a7f6cfa",
   "metadata": {},
   "source": [
    "Python is strongly object-oriented in the sense that everything is an object including numbers, strings and functions."
   ]
  },
  {
   "cell_type": "markdown",
   "id": "47dbb1b1",
   "metadata": {},
   "source": [
    "# Logical And Physical Line"
   ]
  },
  {
   "cell_type": "code",
   "execution_count": 2,
   "id": "0280adf5",
   "metadata": {},
   "outputs": [
    {
     "name": "stdout",
     "output_type": "stream",
     "text": [
      "5\n"
     ]
    }
   ],
   "source": [
    "i = 5; print(i);"
   ]
  },
  {
   "cell_type": "markdown",
   "id": "2d5986aa",
   "metadata": {},
   "source": [
    "# Indentation"
   ]
  },
  {
   "cell_type": "code",
   "execution_count": 4,
   "id": "4daa6afc",
   "metadata": {},
   "outputs": [
    {
     "name": "stdout",
     "output_type": "stream",
     "text": [
      "1\n"
     ]
    }
   ],
   "source": [
    "print(1)\n",
    "    print(2)  # error"
   ]
  }
 ],
 "metadata": {
  "kernelspec": {
   "display_name": "Python 3",
   "language": "python",
   "name": "python3"
  },
  "language_info": {
   "codemirror_mode": {
    "name": "ipython",
    "version": 3
   },
   "file_extension": ".py",
   "mimetype": "text/x-python",
   "name": "python",
   "nbconvert_exporter": "python",
   "pygments_lexer": "ipython3",
   "version": "3.8.8"
  }
 },
 "nbformat": 4,
 "nbformat_minor": 5
}
