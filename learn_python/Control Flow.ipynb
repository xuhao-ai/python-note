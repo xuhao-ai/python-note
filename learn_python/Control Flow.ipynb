{
 "cells": [
  {
   "cell_type": "markdown",
   "id": "7823daf4",
   "metadata": {},
   "source": [
    "# The if statement"
   ]
  },
  {
   "cell_type": "code",
   "execution_count": 6,
   "id": "72ec3366",
   "metadata": {},
   "outputs": [],
   "source": [
    "if True:\n",
    "    pass\n",
    "elif True:\n",
    "    pass\n",
    "else:\n",
    "    pass"
   ]
  },
  {
   "cell_type": "markdown",
   "id": "35f60b57",
   "metadata": {},
   "source": [
    "# The while Statement"
   ]
  },
  {
   "cell_type": "code",
   "execution_count": 8,
   "id": "d2b88f8e",
   "metadata": {},
   "outputs": [],
   "source": [
    "while False:\n",
    "    pass\n",
    "else:\n",
    "    pass"
   ]
  },
  {
   "cell_type": "markdown",
   "id": "bddaab7a",
   "metadata": {},
   "source": [
    "# The for loop"
   ]
  },
  {
   "cell_type": "code",
   "execution_count": 9,
   "id": "dee2c1d2",
   "metadata": {},
   "outputs": [],
   "source": [
    "for i in range(5):\n",
    "    pass"
   ]
  },
  {
   "cell_type": "markdown",
   "id": "c2773eec",
   "metadata": {},
   "source": [
    "# The break Statement "
   ]
  },
  {
   "cell_type": "code",
   "execution_count": null,
   "id": "a84b4e4b",
   "metadata": {},
   "outputs": [],
   "source": [
    "# break"
   ]
  },
  {
   "cell_type": "markdown",
   "id": "3a35f95c",
   "metadata": {},
   "source": [
    "# The continue Statement "
   ]
  },
  {
   "cell_type": "code",
   "execution_count": null,
   "id": "2894b0cb",
   "metadata": {},
   "outputs": [],
   "source": [
    "# continue"
   ]
  }
 ],
 "metadata": {
  "kernelspec": {
   "display_name": "Python 3",
   "language": "python",
   "name": "python3"
  },
  "language_info": {
   "codemirror_mode": {
    "name": "ipython",
    "version": 3
   },
   "file_extension": ".py",
   "mimetype": "text/x-python",
   "name": "python",
   "nbconvert_exporter": "python",
   "pygments_lexer": "ipython3",
   "version": "3.8.8"
  }
 },
 "nbformat": 4,
 "nbformat_minor": 5
}
