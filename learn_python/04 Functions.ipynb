{
 "cells": [
  {
   "cell_type": "markdown",
   "id": "e36d9a08",
   "metadata": {},
   "source": [
    "# Functions"
   ]
  },
  {
   "cell_type": "raw",
   "id": "b7a81a1c",
   "metadata": {},
   "source": [
    "def say_hello():\n",
    "    # block belonging to the function\n",
    "    print('hello world')\n",
    "# End of function\n",
    "\n",
    "say_hello()  # call the function\n",
    "say_hello()  # call the function again"
   ]
  },
  {
   "cell_type": "markdown",
   "id": "9d4d35b4",
   "metadata": {},
   "source": [
    "# Functions Parameters"
   ]
  },
  {
   "cell_type": "raw",
   "id": "124e4f0a",
   "metadata": {},
   "source": [
    "def print_max(a, b):\n",
    "    if a > b:\n",
    "        print(a, 'is maximum')\n",
    "    elif a == b:\n",
    "        print(a, 'is equal to', b)\n",
    "    else:\n",
    "        print(b, 'is maximum')"
   ]
  },
  {
   "cell_type": "markdown",
   "id": "da7d1c9c",
   "metadata": {},
   "source": [
    "## Local Variables"
   ]
  },
  {
   "cell_type": "markdown",
   "id": "eed7a1ba",
   "metadata": {},
   "source": [
    "## The global statement "
   ]
  },
  {
   "cell_type": "code",
   "execution_count": null,
   "id": "5e6cfe49",
   "metadata": {},
   "outputs": [],
   "source": []
  }
 ],
 "metadata": {
  "kernelspec": {
   "display_name": "Python 3",
   "language": "python",
   "name": "python3"
  },
  "language_info": {
   "codemirror_mode": {
    "name": "ipython",
    "version": 3
   },
   "file_extension": ".py",
   "mimetype": "text/x-python",
   "name": "python",
   "nbconvert_exporter": "python",
   "pygments_lexer": "ipython3",
   "version": "3.8.8"
  }
 },
 "nbformat": 4,
 "nbformat_minor": 5
}
