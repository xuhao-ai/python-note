{
 "cells": [
  {
   "cell_type": "markdown",
   "id": "ad6f85ad",
   "metadata": {},
   "source": [
    "# List"
   ]
  },
  {
   "cell_type": "code",
   "execution_count": 2,
   "id": "4d5322cd",
   "metadata": {},
   "outputs": [],
   "source": [
    "names = ['Tim', 'Tom', 'Tony']\n",
    "names.append('Bob')\n",
    "names.sort()\n",
    "del names[0]"
   ]
  },
  {
   "cell_type": "markdown",
   "id": "e87ee8b6",
   "metadata": {},
   "source": [
    "# Tuple"
   ]
  },
  {
   "cell_type": "code",
   "execution_count": 3,
   "id": "169dddf3",
   "metadata": {},
   "outputs": [],
   "source": [
    "a = 1, 2, 3"
   ]
  },
  {
   "cell_type": "markdown",
   "id": "88b978b9",
   "metadata": {},
   "source": [
    "# Dictionary"
   ]
  },
  {
   "cell_type": "code",
   "execution_count": 5,
   "id": "a37a4013",
   "metadata": {},
   "outputs": [],
   "source": [
    "ab = {'Tom':23, 'Tim':21, 'Bob':27}\n",
    "ab['Tom']\n",
    "ab['Tina'] = 34\n",
    "del ab['Tim']"
   ]
  },
  {
   "cell_type": "code",
   "execution_count": 8,
   "id": "1b5a427f",
   "metadata": {},
   "outputs": [
    {
     "name": "stdout",
     "output_type": "stream",
     "text": [
      "('Tom', 23)\n",
      "('Bob', 27)\n",
      "('Tina', 34)\n"
     ]
    }
   ],
   "source": [
    "for i in ab.items():\n",
    "    print(i)"
   ]
  },
  {
   "cell_type": "code",
   "execution_count": 13,
   "id": "93b30c59",
   "metadata": {},
   "outputs": [
    {
     "name": "stdout",
     "output_type": "stream",
     "text": [
      "['a', 'b', 'c']\n"
     ]
    }
   ],
   "source": [
    "l = ['a','c','b']\n",
    "l.sort()\n",
    "print(l)"
   ]
  },
  {
   "cell_type": "code",
   "execution_count": 12,
   "id": "06cb6273",
   "metadata": {},
   "outputs": [
    {
     "name": "stdout",
     "output_type": "stream",
     "text": [
      "None\n"
     ]
    }
   ],
   "source": [
    "print(l.sort())"
   ]
  },
  {
   "cell_type": "code",
   "execution_count": null,
   "id": "c2c986cf",
   "metadata": {},
   "outputs": [],
   "source": []
  }
 ],
 "metadata": {
  "kernelspec": {
   "display_name": "Python 3",
   "language": "python",
   "name": "python3"
  },
  "language_info": {
   "codemirror_mode": {
    "name": "ipython",
    "version": 3
   },
   "file_extension": ".py",
   "mimetype": "text/x-python",
   "name": "python",
   "nbconvert_exporter": "python",
   "pygments_lexer": "ipython3",
   "version": "3.8.8"
  }
 },
 "nbformat": 4,
 "nbformat_minor": 5
}
