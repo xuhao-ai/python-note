{
 "cells": [
  {
   "cell_type": "markdown",
   "id": "c579eae0",
   "metadata": {},
   "source": [
    "# Operators"
   ]
  },
  {
   "cell_type": "markdown",
   "id": "7f3a7aef",
   "metadata": {},
   "source": [
    "## 算术运算符"
   ]
  },
  {
   "cell_type": "code",
   "execution_count": 8,
   "id": "4566811f",
   "metadata": {},
   "outputs": [
    {
     "data": {
      "text/plain": [
       "0"
      ]
     },
     "execution_count": 8,
     "metadata": {},
     "output_type": "execute_result"
    }
   ],
   "source": [
    "1 + 2\n",
    "1 - 2\n",
    "1 * 2\n",
    "1 / 2\n",
    "1 % 2\n",
    "1 ** 2\n",
    "1 // 2"
   ]
  },
  {
   "cell_type": "markdown",
   "id": "8ac90b56",
   "metadata": {},
   "source": [
    "## 比较（关系）运算符"
   ]
  },
  {
   "cell_type": "code",
   "execution_count": 9,
   "id": "75418965",
   "metadata": {},
   "outputs": [
    {
     "data": {
      "text/plain": [
       "True"
      ]
     },
     "execution_count": 9,
     "metadata": {},
     "output_type": "execute_result"
    }
   ],
   "source": [
    "1 == 2\n",
    "1 != 2\n",
    "1 > 2\n",
    "1 < 2\n",
    "1 >= 2\n",
    "1 <= 2"
   ]
  },
  {
   "cell_type": "markdown",
   "id": "9ca65f1d",
   "metadata": {},
   "source": [
    "## 赋值运算符"
   ]
  },
  {
   "cell_type": "code",
   "execution_count": 10,
   "id": "da4cab77",
   "metadata": {},
   "outputs": [],
   "source": [
    "a = 1\n",
    "a += 1\n",
    "a -= 1\n",
    "a *= 1\n",
    "a /= 1\n",
    "a %= 1\n",
    "a **= 1\n",
    "a //= 1"
   ]
  },
  {
   "cell_type": "markdown",
   "id": "47be80f3",
   "metadata": {},
   "source": [
    "## 逻辑运算符"
   ]
  },
  {
   "cell_type": "code",
   "execution_count": 12,
   "id": "cfec8969",
   "metadata": {},
   "outputs": [
    {
     "data": {
      "text/plain": [
       "False"
      ]
     },
     "execution_count": 12,
     "metadata": {},
     "output_type": "execute_result"
    }
   ],
   "source": [
    "True and False\n",
    "True or False\n",
    "not True"
   ]
  },
  {
   "cell_type": "markdown",
   "id": "b5b29624",
   "metadata": {},
   "source": [
    "## 位运算符"
   ]
  },
  {
   "cell_type": "raw",
   "id": "d7bf9262",
   "metadata": {},
   "source": [
    "& | ^ ~ << >>"
   ]
  },
  {
   "cell_type": "markdown",
   "id": "864227da",
   "metadata": {},
   "source": [
    "## 成员运算符"
   ]
  },
  {
   "cell_type": "raw",
   "id": "f4ed3072",
   "metadata": {},
   "source": [
    "in\n",
    "not in"
   ]
  },
  {
   "cell_type": "markdown",
   "id": "44377ccb",
   "metadata": {},
   "source": [
    "## 身份运算符"
   ]
  },
  {
   "cell_type": "raw",
   "id": "690582be",
   "metadata": {},
   "source": [
    "is\n",
    "is not"
   ]
  },
  {
   "cell_type": "code",
   "execution_count": 10,
   "id": "36552975",
   "metadata": {},
   "outputs": [
    {
     "name": "stdout",
     "output_type": "stream",
     "text": [
      "2548656842736\n",
      "False\n",
      "2548656842320\n"
     ]
    }
   ],
   "source": [
    "a = 5888\n",
    "b = 5888\n",
    "print(id(a))\n",
    "print(a is b)\n",
    "print(id(b))"
   ]
  },
  {
   "cell_type": "markdown",
   "id": "e1e0ccc5",
   "metadata": {},
   "source": [
    "# Expressions"
   ]
  },
  {
   "cell_type": "code",
   "execution_count": null,
   "id": "93ce1319",
   "metadata": {},
   "outputs": [],
   "source": [
    "# 可以被求值的代码"
   ]
  }
 ],
 "metadata": {
  "kernelspec": {
   "display_name": "Python 3",
   "language": "python",
   "name": "python3"
  },
  "language_info": {
   "codemirror_mode": {
    "name": "ipython",
    "version": 3
   },
   "file_extension": ".py",
   "mimetype": "text/x-python",
   "name": "python",
   "nbconvert_exporter": "python",
   "pygments_lexer": "ipython3",
   "version": "3.8.8"
  }
 },
 "nbformat": 4,
 "nbformat_minor": 5
}
